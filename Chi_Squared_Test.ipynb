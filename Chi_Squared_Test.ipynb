{
  "nbformat": 4,
  "nbformat_minor": 0,
  "metadata": {
    "colab": {
      "provenance": [],
      "authorship_tag": "ABX9TyMcD5yng4CXlhdmUMl7m9Tq",
      "include_colab_link": true
    },
    "kernelspec": {
      "name": "python3",
      "display_name": "Python 3"
    },
    "language_info": {
      "name": "python"
    }
  },
  "cells": [
    {
      "cell_type": "markdown",
      "metadata": {
        "id": "view-in-github",
        "colab_type": "text"
      },
      "source": [
        "<a href=\"https://colab.research.google.com/github/megharajs07/Dav3/blob/main/Chi_Squared_Test.ipynb\" target=\"_parent\"><img src=\"https://colab.research.google.com/assets/colab-badge.svg\" alt=\"Open In Colab\"/></a>"
      ]
    },
    {
      "cell_type": "code",
      "execution_count": 8,
      "metadata": {
        "colab": {
          "base_uri": "https://localhost:8080/"
        },
        "id": "1PrWMy2Y-9Xx",
        "outputId": "45eb1407-6ac8-47b5-c174-913c9210110e"
      },
      "outputs": [
        {
          "output_type": "execute_result",
          "data": {
            "text/plain": [
              "4"
            ]
          },
          "metadata": {},
          "execution_count": 8
        }
      ],
      "source": [
        "2+2"
      ]
    },
    {
      "cell_type": "markdown",
      "source": [
        "## Chi Square test"
      ],
      "metadata": {
        "id": "RlnV1tqGw--z"
      }
    },
    {
      "cell_type": "markdown",
      "source": [
        "### Problem 1\n",
        "- You have a coin. you wish to ensure that it is fair.\n",
        "- You decide to toss it 50 times, and note the observations.\n",
        "- The observed outcomes from 50 coin tosses are 28 heads and 22 tails.\n",
        "- Determine if the coin is fair or biased."
      ],
      "metadata": {
        "id": "XLDAkqpWi09l"
      }
    },
    {
      "cell_type": "code",
      "source": [
        "import numpy as np\n",
        "import pandas as pd\n",
        "import seaborn as sns\n",
        "import matplotlib.pyplot as plt\n",
        "\n",
        "from scipy.stats import chisquare # Statistical test (chistat, pvalue)\n",
        "from scipy.stats import chi2"
      ],
      "metadata": {
        "id": "IkO-G5y3CQTb"
      },
      "execution_count": 9,
      "outputs": []
    },
    {
      "cell_type": "code",
      "source": [
        "# H0 - The coin is fair\n",
        "# Ha = The coin is biased\n",
        "\n",
        "# - Distribution: chi square distribution as it is categorical\n",
        "# Alpha value is 0.05\n",
        "\n",
        "chi_stat, pvalue = chisquare(\n",
        "    [28, 22], # Observed or Actual Values\n",
        "    [25, 25]  # Expected Values\n",
        ")\n",
        "\n",
        "print(f'P - Value = {pvalue}')\n",
        "print(f'Chi Stat = {chi_stat}')"
      ],
      "metadata": {
        "colab": {
          "base_uri": "https://localhost:8080/"
        },
        "id": "7I597gLrw6-s",
        "outputId": "ded8d878-8ead-4bd6-c43b-642984ba58b2"
      },
      "execution_count": 10,
      "outputs": [
        {
          "output_type": "stream",
          "name": "stdout",
          "text": [
            "P - Value = 0.3961439091520741\n",
            "Chi Stat = 0.72\n"
          ]
        }
      ]
    },
    {
      "cell_type": "code",
      "source": [
        "alpha = 0.05\n",
        "\n",
        "if pvalue < alpha:\n",
        "  print(\"Reject H0: Coin is Biased\")\n",
        "else:\n",
        "  print(\"Failed to reject H0: Coin is Fair\")"
      ],
      "metadata": {
        "colab": {
          "base_uri": "https://localhost:8080/"
        },
        "id": "lDmqZ02GylgH",
        "outputId": "6eb9a896-ce38-463b-e787-88b4592a3adb"
      },
      "execution_count": 11,
      "outputs": [
        {
          "output_type": "stream",
          "name": "stdout",
          "text": [
            "Failed to reject H0: Coin is Fair\n"
          ]
        }
      ]
    },
    {
      "cell_type": "code",
      "source": [
        "# For P-Value we use to do \"1 - norm.cdf(Z)\"\n",
        "# For Chi Square it would be \"1 - chi2.cdf(chistat, df)\" ==> \"1 - chi2.cdf(0.72, df=1)\"\n",
        "1 - chi2.cdf(0.72, df=1)"
      ],
      "metadata": {
        "colab": {
          "base_uri": "https://localhost:8080/"
        },
        "id": "UTV-hzPJzIJw",
        "outputId": "b59257c7-e2f6-453a-c994-1b29dc8f257f"
      },
      "execution_count": 12,
      "outputs": [
        {
          "output_type": "execute_result",
          "data": {
            "text/plain": [
              "np.float64(0.3961439091520741)"
            ]
          },
          "metadata": {},
          "execution_count": 12
        }
      ]
    },
    {
      "cell_type": "markdown",
      "source": [
        "### Problem 2\n",
        "- You have a coin. you wish to ensure that it is fair.\n",
        "- You decide to toss it 50 times, and note the observations.\n",
        "- The observed outcomes from 50 coin tosses are 45 heads and 5 tails.\n",
        "- Determine if the coin is fair or biased."
      ],
      "metadata": {
        "id": "SR0zIP_KOx32"
      }
    },
    {
      "cell_type": "code",
      "source": [
        "# H0 - The coin is fair\n",
        "# Ha = The coin is biased\n",
        "\n",
        "# - Distribution: chi square distribution as it is categorical\n",
        "# Alpha value is 0.05\n",
        "\n",
        "chi_stat, pvalue = chisquare(\n",
        "    [45, 5], # Observed or Actual Values\n",
        "    [25, 25]  # Expected Values\n",
        ")\n",
        "\n",
        "print(f'P - Value = {pvalue}')\n",
        "print(f'Chi Stat = {chi_stat}')\n",
        "\n",
        "alpha = 0.05\n",
        "\n",
        "if pvalue < alpha:\n",
        "  print(\"Reject H0: Coin is Biased\")\n",
        "else:\n",
        "  print(\"Failed to reject H0: Coin is Fair\")"
      ],
      "metadata": {
        "colab": {
          "base_uri": "https://localhost:8080/"
        },
        "id": "nPEUwRdyz8WH",
        "outputId": "ec2fe1ab-310c-4bfe-af0b-f270db54c101"
      },
      "execution_count": 13,
      "outputs": [
        {
          "output_type": "stream",
          "name": "stdout",
          "text": [
            "P - Value = 1.5417257900280013e-08\n",
            "Chi Stat = 32.0\n",
            "Reject H0: Coin is Biased\n"
          ]
        }
      ]
    },
    {
      "cell_type": "markdown",
      "source": [
        "### Problem 3\n",
        "- Online shopping table with following values based on gender\n",
        "\n",
        "\n",
        "---\n",
        "![chisquared table.jpg](data:image/jpeg;base64,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)\n"
      ],
      "metadata": {
        "id": "8OSWdTWITyUI"
      }
    },
    {
      "cell_type": "code",
      "source": [
        "from scipy.stats import chi2_contingency"
      ],
      "metadata": {
        "id": "guAzdZLwPFKU"
      },
      "execution_count": 14,
      "outputs": []
    },
    {
      "cell_type": "code",
      "source": [
        "observed = [\n",
        "    [527, 72],\n",
        "    [206, 102]\n",
        "]\n",
        "\n",
        "chi2_contingency(observed) # chi_stat, pvalue, df, expected values"
      ],
      "metadata": {
        "colab": {
          "base_uri": "https://localhost:8080/"
        },
        "id": "pPfb4yQhT5Cf",
        "outputId": "06161541-83d7-439f-a275-4a7e6b338b26"
      },
      "execution_count": 15,
      "outputs": [
        {
          "output_type": "execute_result",
          "data": {
            "text/plain": [
              "Chi2ContingencyResult(statistic=np.float64(57.04098674049609), pvalue=np.float64(4.268230756875865e-14), dof=1, expected_freq=array([[484.08710033, 114.91289967],\n",
              "       [248.91289967,  59.08710033]]))"
            ]
          },
          "metadata": {},
          "execution_count": 15
        }
      ]
    },
    {
      "cell_type": "code",
      "source": [
        "chi_stat, p_value, df, exp_freq = chi2_contingency(observed)\n",
        "print(f'P - Value = {p_value}')\n",
        "print(f'Chi Stat = {chi_stat}')\n",
        "print(f'Degree of Freedom = {df}')\n",
        "print(f'Expected Frequency = {exp_freq}')\n",
        "\n",
        "alpha = 0.05\n",
        "\n",
        "if pvalue < alpha:\n",
        "  print(\"Reject H0: Gender and Preference are not Independent, Gender has a dependency on Preference\")\n",
        "else:\n",
        "  print(\"Failed to reject H0: Gender does not have a dependency on Preference\")"
      ],
      "metadata": {
        "colab": {
          "base_uri": "https://localhost:8080/"
        },
        "id": "EiXqnxqbgbSF",
        "outputId": "3bbf6b51-c0fc-425a-ca75-f6488de298a6"
      },
      "execution_count": 17,
      "outputs": [
        {
          "output_type": "stream",
          "name": "stdout",
          "text": [
            "P - Value = 4.268230756875865e-14\n",
            "Chi Stat = 57.04098674049609\n",
            "Degree of Freedom = 1\n",
            "Expected Frequency = [[484.08710033 114.91289967]\n",
            " [248.91289967  59.08710033]]\n",
            "Reject H0: Gender and Preference are not Independent, Gender has a dependency on Preference\n"
          ]
        }
      ]
    },
    {
      "cell_type": "markdown",
      "source": [
        "### Problem 4\n",
        "- Aerofit use case"
      ],
      "metadata": {
        "id": "sBGNjjcwi4fZ"
      }
    },
    {
      "cell_type": "code",
      "source": [
        "!wget --no-check-certificate https://drive.google.com/uc?id=1fSKOoZcIfLTFMvyQ37RvGH168g5nVMDD -O aerofit.csv"
      ],
      "metadata": {
        "colab": {
          "base_uri": "https://localhost:8080/"
        },
        "id": "hFmVFaLVhvcR",
        "outputId": "f9d3729b-1f9a-4b43-f266-b0ebab515ee8"
      },
      "execution_count": 18,
      "outputs": [
        {
          "output_type": "stream",
          "name": "stdout",
          "text": [
            "--2025-04-20 14:14:52--  https://drive.google.com/uc?id=1fSKOoZcIfLTFMvyQ37RvGH168g5nVMDD\n",
            "Resolving drive.google.com (drive.google.com)... 74.125.196.100, 74.125.196.139, 74.125.196.101, ...\n",
            "Connecting to drive.google.com (drive.google.com)|74.125.196.100|:443... connected.\n",
            "HTTP request sent, awaiting response... 303 See Other\n",
            "Location: https://drive.usercontent.google.com/download?id=1fSKOoZcIfLTFMvyQ37RvGH168g5nVMDD [following]\n",
            "--2025-04-20 14:14:52--  https://drive.usercontent.google.com/download?id=1fSKOoZcIfLTFMvyQ37RvGH168g5nVMDD\n",
            "Resolving drive.usercontent.google.com (drive.usercontent.google.com)... 108.177.12.132, 2607:f8b0:400c:c06::84\n",
            "Connecting to drive.usercontent.google.com (drive.usercontent.google.com)|108.177.12.132|:443... connected.\n",
            "HTTP request sent, awaiting response... 200 OK\n",
            "Length: 7461 (7.3K) [application/octet-stream]\n",
            "Saving to: ‘aerofit.csv’\n",
            "\n",
            "aerofit.csv         100%[===================>]   7.29K  --.-KB/s    in 0s      \n",
            "\n",
            "2025-04-20 14:14:54 (58.9 MB/s) - ‘aerofit.csv’ saved [7461/7461]\n",
            "\n"
          ]
        }
      ]
    },
    {
      "cell_type": "code",
      "source": [
        "df_aerofit = pd.read_csv('aerofit.csv')\n",
        "df_aerofit.head()"
      ],
      "metadata": {
        "colab": {
          "base_uri": "https://localhost:8080/",
          "height": 214
        },
        "id": "4q-UbO0Ui_I1",
        "outputId": "ac3583f3-56a8-49f3-e21b-244b1a1758fb"
      },
      "execution_count": 20,
      "outputs": [
        {
          "output_type": "execute_result",
          "data": {
            "text/plain": [
              "  Product  Age  Gender  Education MaritalStatus  Usage  Fitness  Income  Miles\n",
              "0   KP281   18    Male         14        Single      3        4   29562    112\n",
              "1   KP281   19    Male         15        Single      2        3   31836     75\n",
              "2   KP281   19  Female         14     Partnered      4        3   30699     66\n",
              "3   KP281   19    Male         12        Single      3        3   32973     85\n",
              "4   KP281   20    Male         13     Partnered      4        2   35247     47"
            ],
            "text/html": [
              "\n",
              "  <div id=\"df-93d4b274-1faf-4644-86fc-4298d67caa0e\" class=\"colab-df-container\">\n",
              "    <div>\n",
              "<style scoped>\n",
              "    .dataframe tbody tr th:only-of-type {\n",
              "        vertical-align: middle;\n",
              "    }\n",
              "\n",
              "    .dataframe tbody tr th {\n",
              "        vertical-align: top;\n",
              "    }\n",
              "\n",
              "    .dataframe thead th {\n",
              "        text-align: right;\n",
              "    }\n",
              "</style>\n",
              "<table border=\"1\" class=\"dataframe\">\n",
              "  <thead>\n",
              "    <tr style=\"text-align: right;\">\n",
              "      <th></th>\n",
              "      <th>Product</th>\n",
              "      <th>Age</th>\n",
              "      <th>Gender</th>\n",
              "      <th>Education</th>\n",
              "      <th>MaritalStatus</th>\n",
              "      <th>Usage</th>\n",
              "      <th>Fitness</th>\n",
              "      <th>Income</th>\n",
              "      <th>Miles</th>\n",
              "    </tr>\n",
              "  </thead>\n",
              "  <tbody>\n",
              "    <tr>\n",
              "      <th>0</th>\n",
              "      <td>KP281</td>\n",
              "      <td>18</td>\n",
              "      <td>Male</td>\n",
              "      <td>14</td>\n",
              "      <td>Single</td>\n",
              "      <td>3</td>\n",
              "      <td>4</td>\n",
              "      <td>29562</td>\n",
              "      <td>112</td>\n",
              "    </tr>\n",
              "    <tr>\n",
              "      <th>1</th>\n",
              "      <td>KP281</td>\n",
              "      <td>19</td>\n",
              "      <td>Male</td>\n",
              "      <td>15</td>\n",
              "      <td>Single</td>\n",
              "      <td>2</td>\n",
              "      <td>3</td>\n",
              "      <td>31836</td>\n",
              "      <td>75</td>\n",
              "    </tr>\n",
              "    <tr>\n",
              "      <th>2</th>\n",
              "      <td>KP281</td>\n",
              "      <td>19</td>\n",
              "      <td>Female</td>\n",
              "      <td>14</td>\n",
              "      <td>Partnered</td>\n",
              "      <td>4</td>\n",
              "      <td>3</td>\n",
              "      <td>30699</td>\n",
              "      <td>66</td>\n",
              "    </tr>\n",
              "    <tr>\n",
              "      <th>3</th>\n",
              "      <td>KP281</td>\n",
              "      <td>19</td>\n",
              "      <td>Male</td>\n",
              "      <td>12</td>\n",
              "      <td>Single</td>\n",
              "      <td>3</td>\n",
              "      <td>3</td>\n",
              "      <td>32973</td>\n",
              "      <td>85</td>\n",
              "    </tr>\n",
              "    <tr>\n",
              "      <th>4</th>\n",
              "      <td>KP281</td>\n",
              "      <td>20</td>\n",
              "      <td>Male</td>\n",
              "      <td>13</td>\n",
              "      <td>Partnered</td>\n",
              "      <td>4</td>\n",
              "      <td>2</td>\n",
              "      <td>35247</td>\n",
              "      <td>47</td>\n",
              "    </tr>\n",
              "  </tbody>\n",
              "</table>\n",
              "</div>\n",
              "    <div class=\"colab-df-buttons\">\n",
              "\n",
              "  <div class=\"colab-df-container\">\n",
              "    <button class=\"colab-df-convert\" onclick=\"convertToInteractive('df-93d4b274-1faf-4644-86fc-4298d67caa0e')\"\n",
              "            title=\"Convert this dataframe to an interactive table.\"\n",
              "            style=\"display:none;\">\n",
              "\n",
              "  <svg xmlns=\"http://www.w3.org/2000/svg\" height=\"24px\" viewBox=\"0 -960 960 960\">\n",
              "    <path d=\"M120-120v-720h720v720H120Zm60-500h600v-160H180v160Zm220 220h160v-160H400v160Zm0 220h160v-160H400v160ZM180-400h160v-160H180v160Zm440 0h160v-160H620v160ZM180-180h160v-160H180v160Zm440 0h160v-160H620v160Z\"/>\n",
              "  </svg>\n",
              "    </button>\n",
              "\n",
              "  <style>\n",
              "    .colab-df-container {\n",
              "      display:flex;\n",
              "      gap: 12px;\n",
              "    }\n",
              "\n",
              "    .colab-df-convert {\n",
              "      background-color: #E8F0FE;\n",
              "      border: none;\n",
              "      border-radius: 50%;\n",
              "      cursor: pointer;\n",
              "      display: none;\n",
              "      fill: #1967D2;\n",
              "      height: 32px;\n",
              "      padding: 0 0 0 0;\n",
              "      width: 32px;\n",
              "    }\n",
              "\n",
              "    .colab-df-convert:hover {\n",
              "      background-color: #E2EBFA;\n",
              "      box-shadow: 0px 1px 2px rgba(60, 64, 67, 0.3), 0px 1px 3px 1px rgba(60, 64, 67, 0.15);\n",
              "      fill: #174EA6;\n",
              "    }\n",
              "\n",
              "    .colab-df-buttons div {\n",
              "      margin-bottom: 4px;\n",
              "    }\n",
              "\n",
              "    [theme=dark] .colab-df-convert {\n",
              "      background-color: #3B4455;\n",
              "      fill: #D2E3FC;\n",
              "    }\n",
              "\n",
              "    [theme=dark] .colab-df-convert:hover {\n",
              "      background-color: #434B5C;\n",
              "      box-shadow: 0px 1px 3px 1px rgba(0, 0, 0, 0.15);\n",
              "      filter: drop-shadow(0px 1px 2px rgba(0, 0, 0, 0.3));\n",
              "      fill: #FFFFFF;\n",
              "    }\n",
              "  </style>\n",
              "\n",
              "    <script>\n",
              "      const buttonEl =\n",
              "        document.querySelector('#df-93d4b274-1faf-4644-86fc-4298d67caa0e button.colab-df-convert');\n",
              "      buttonEl.style.display =\n",
              "        google.colab.kernel.accessAllowed ? 'block' : 'none';\n",
              "\n",
              "      async function convertToInteractive(key) {\n",
              "        const element = document.querySelector('#df-93d4b274-1faf-4644-86fc-4298d67caa0e');\n",
              "        const dataTable =\n",
              "          await google.colab.kernel.invokeFunction('convertToInteractive',\n",
              "                                                    [key], {});\n",
              "        if (!dataTable) return;\n",
              "\n",
              "        const docLinkHtml = 'Like what you see? Visit the ' +\n",
              "          '<a target=\"_blank\" href=https://colab.research.google.com/notebooks/data_table.ipynb>data table notebook</a>'\n",
              "          + ' to learn more about interactive tables.';\n",
              "        element.innerHTML = '';\n",
              "        dataTable['output_type'] = 'display_data';\n",
              "        await google.colab.output.renderOutput(dataTable, element);\n",
              "        const docLink = document.createElement('div');\n",
              "        docLink.innerHTML = docLinkHtml;\n",
              "        element.appendChild(docLink);\n",
              "      }\n",
              "    </script>\n",
              "  </div>\n",
              "\n",
              "\n",
              "<div id=\"df-82d97f75-760a-41a2-8f50-8217ecd85e5c\">\n",
              "  <button class=\"colab-df-quickchart\" onclick=\"quickchart('df-82d97f75-760a-41a2-8f50-8217ecd85e5c')\"\n",
              "            title=\"Suggest charts\"\n",
              "            style=\"display:none;\">\n",
              "\n",
              "<svg xmlns=\"http://www.w3.org/2000/svg\" height=\"24px\"viewBox=\"0 0 24 24\"\n",
              "     width=\"24px\">\n",
              "    <g>\n",
              "        <path d=\"M19 3H5c-1.1 0-2 .9-2 2v14c0 1.1.9 2 2 2h14c1.1 0 2-.9 2-2V5c0-1.1-.9-2-2-2zM9 17H7v-7h2v7zm4 0h-2V7h2v10zm4 0h-2v-4h2v4z\"/>\n",
              "    </g>\n",
              "</svg>\n",
              "  </button>\n",
              "\n",
              "<style>\n",
              "  .colab-df-quickchart {\n",
              "      --bg-color: #E8F0FE;\n",
              "      --fill-color: #1967D2;\n",
              "      --hover-bg-color: #E2EBFA;\n",
              "      --hover-fill-color: #174EA6;\n",
              "      --disabled-fill-color: #AAA;\n",
              "      --disabled-bg-color: #DDD;\n",
              "  }\n",
              "\n",
              "  [theme=dark] .colab-df-quickchart {\n",
              "      --bg-color: #3B4455;\n",
              "      --fill-color: #D2E3FC;\n",
              "      --hover-bg-color: #434B5C;\n",
              "      --hover-fill-color: #FFFFFF;\n",
              "      --disabled-bg-color: #3B4455;\n",
              "      --disabled-fill-color: #666;\n",
              "  }\n",
              "\n",
              "  .colab-df-quickchart {\n",
              "    background-color: var(--bg-color);\n",
              "    border: none;\n",
              "    border-radius: 50%;\n",
              "    cursor: pointer;\n",
              "    display: none;\n",
              "    fill: var(--fill-color);\n",
              "    height: 32px;\n",
              "    padding: 0;\n",
              "    width: 32px;\n",
              "  }\n",
              "\n",
              "  .colab-df-quickchart:hover {\n",
              "    background-color: var(--hover-bg-color);\n",
              "    box-shadow: 0 1px 2px rgba(60, 64, 67, 0.3), 0 1px 3px 1px rgba(60, 64, 67, 0.15);\n",
              "    fill: var(--button-hover-fill-color);\n",
              "  }\n",
              "\n",
              "  .colab-df-quickchart-complete:disabled,\n",
              "  .colab-df-quickchart-complete:disabled:hover {\n",
              "    background-color: var(--disabled-bg-color);\n",
              "    fill: var(--disabled-fill-color);\n",
              "    box-shadow: none;\n",
              "  }\n",
              "\n",
              "  .colab-df-spinner {\n",
              "    border: 2px solid var(--fill-color);\n",
              "    border-color: transparent;\n",
              "    border-bottom-color: var(--fill-color);\n",
              "    animation:\n",
              "      spin 1s steps(1) infinite;\n",
              "  }\n",
              "\n",
              "  @keyframes spin {\n",
              "    0% {\n",
              "      border-color: transparent;\n",
              "      border-bottom-color: var(--fill-color);\n",
              "      border-left-color: var(--fill-color);\n",
              "    }\n",
              "    20% {\n",
              "      border-color: transparent;\n",
              "      border-left-color: var(--fill-color);\n",
              "      border-top-color: var(--fill-color);\n",
              "    }\n",
              "    30% {\n",
              "      border-color: transparent;\n",
              "      border-left-color: var(--fill-color);\n",
              "      border-top-color: var(--fill-color);\n",
              "      border-right-color: var(--fill-color);\n",
              "    }\n",
              "    40% {\n",
              "      border-color: transparent;\n",
              "      border-right-color: var(--fill-color);\n",
              "      border-top-color: var(--fill-color);\n",
              "    }\n",
              "    60% {\n",
              "      border-color: transparent;\n",
              "      border-right-color: var(--fill-color);\n",
              "    }\n",
              "    80% {\n",
              "      border-color: transparent;\n",
              "      border-right-color: var(--fill-color);\n",
              "      border-bottom-color: var(--fill-color);\n",
              "    }\n",
              "    90% {\n",
              "      border-color: transparent;\n",
              "      border-bottom-color: var(--fill-color);\n",
              "    }\n",
              "  }\n",
              "</style>\n",
              "\n",
              "  <script>\n",
              "    async function quickchart(key) {\n",
              "      const quickchartButtonEl =\n",
              "        document.querySelector('#' + key + ' button');\n",
              "      quickchartButtonEl.disabled = true;  // To prevent multiple clicks.\n",
              "      quickchartButtonEl.classList.add('colab-df-spinner');\n",
              "      try {\n",
              "        const charts = await google.colab.kernel.invokeFunction(\n",
              "            'suggestCharts', [key], {});\n",
              "      } catch (error) {\n",
              "        console.error('Error during call to suggestCharts:', error);\n",
              "      }\n",
              "      quickchartButtonEl.classList.remove('colab-df-spinner');\n",
              "      quickchartButtonEl.classList.add('colab-df-quickchart-complete');\n",
              "    }\n",
              "    (() => {\n",
              "      let quickchartButtonEl =\n",
              "        document.querySelector('#df-82d97f75-760a-41a2-8f50-8217ecd85e5c button');\n",
              "      quickchartButtonEl.style.display =\n",
              "        google.colab.kernel.accessAllowed ? 'block' : 'none';\n",
              "    })();\n",
              "  </script>\n",
              "</div>\n",
              "\n",
              "    </div>\n",
              "  </div>\n"
            ],
            "application/vnd.google.colaboratory.intrinsic+json": {
              "type": "dataframe",
              "variable_name": "df_aerofit",
              "summary": "{\n  \"name\": \"df_aerofit\",\n  \"rows\": 180,\n  \"fields\": [\n    {\n      \"column\": \"Product\",\n      \"properties\": {\n        \"dtype\": \"category\",\n        \"num_unique_values\": 3,\n        \"samples\": [\n          \"KP281\",\n          \"KP481\",\n          \"KP781\"\n        ],\n        \"semantic_type\": \"\",\n        \"description\": \"\"\n      }\n    },\n    {\n      \"column\": \"Age\",\n      \"properties\": {\n        \"dtype\": \"number\",\n        \"std\": 6,\n        \"min\": 18,\n        \"max\": 50,\n        \"num_unique_values\": 32,\n        \"samples\": [\n          45,\n          33,\n          43\n        ],\n        \"semantic_type\": \"\",\n        \"description\": \"\"\n      }\n    },\n    {\n      \"column\": \"Gender\",\n      \"properties\": {\n        \"dtype\": \"category\",\n        \"num_unique_values\": 2,\n        \"samples\": [\n          \"Female\",\n          \"Male\"\n        ],\n        \"semantic_type\": \"\",\n        \"description\": \"\"\n      }\n    },\n    {\n      \"column\": \"Education\",\n      \"properties\": {\n        \"dtype\": \"number\",\n        \"std\": 1,\n        \"min\": 12,\n        \"max\": 21,\n        \"num_unique_values\": 8,\n        \"samples\": [\n          15,\n          18\n        ],\n        \"semantic_type\": \"\",\n        \"description\": \"\"\n      }\n    },\n    {\n      \"column\": \"MaritalStatus\",\n      \"properties\": {\n        \"dtype\": \"category\",\n        \"num_unique_values\": 2,\n        \"samples\": [\n          \"Partnered\",\n          \"Single\"\n        ],\n        \"semantic_type\": \"\",\n        \"description\": \"\"\n      }\n    },\n    {\n      \"column\": \"Usage\",\n      \"properties\": {\n        \"dtype\": \"number\",\n        \"std\": 1,\n        \"min\": 2,\n        \"max\": 7,\n        \"num_unique_values\": 6,\n        \"samples\": [\n          3,\n          2\n        ],\n        \"semantic_type\": \"\",\n        \"description\": \"\"\n      }\n    },\n    {\n      \"column\": \"Fitness\",\n      \"properties\": {\n        \"dtype\": \"number\",\n        \"std\": 0,\n        \"min\": 1,\n        \"max\": 5,\n        \"num_unique_values\": 5,\n        \"samples\": [\n          3,\n          5\n        ],\n        \"semantic_type\": \"\",\n        \"description\": \"\"\n      }\n    },\n    {\n      \"column\": \"Income\",\n      \"properties\": {\n        \"dtype\": \"number\",\n        \"std\": 16506,\n        \"min\": 29562,\n        \"max\": 104581,\n        \"num_unique_values\": 62,\n        \"samples\": [\n          88396,\n          103336\n        ],\n        \"semantic_type\": \"\",\n        \"description\": \"\"\n      }\n    },\n    {\n      \"column\": \"Miles\",\n      \"properties\": {\n        \"dtype\": \"number\",\n        \"std\": 51,\n        \"min\": 21,\n        \"max\": 360,\n        \"num_unique_values\": 37,\n        \"samples\": [\n          95,\n          169\n        ],\n        \"semantic_type\": \"\",\n        \"description\": \"\"\n      }\n    }\n  ]\n}"
            }
          },
          "metadata": {},
          "execution_count": 20
        }
      ]
    },
    {
      "cell_type": "code",
      "source": [
        "gender_product = pd.crosstab(index = df_aerofit['Gender'], columns=df_aerofit['Product'])\n",
        "gender_product # This will give the count of each gender for each product"
      ],
      "metadata": {
        "colab": {
          "base_uri": "https://localhost:8080/",
          "height": 148
        },
        "id": "DmHip0iOjR4w",
        "outputId": "b9eab660-523a-4411-b7b9-a9b35d9b01d0"
      },
      "execution_count": 21,
      "outputs": [
        {
          "output_type": "execute_result",
          "data": {
            "text/plain": [
              "Product  KP281  KP481  KP781\n",
              "Gender                      \n",
              "Female      40     29      7\n",
              "Male        40     31     33"
            ],
            "text/html": [
              "\n",
              "  <div id=\"df-d7012e12-fba8-40cf-bd69-e24960b19c67\" class=\"colab-df-container\">\n",
              "    <div>\n",
              "<style scoped>\n",
              "    .dataframe tbody tr th:only-of-type {\n",
              "        vertical-align: middle;\n",
              "    }\n",
              "\n",
              "    .dataframe tbody tr th {\n",
              "        vertical-align: top;\n",
              "    }\n",
              "\n",
              "    .dataframe thead th {\n",
              "        text-align: right;\n",
              "    }\n",
              "</style>\n",
              "<table border=\"1\" class=\"dataframe\">\n",
              "  <thead>\n",
              "    <tr style=\"text-align: right;\">\n",
              "      <th>Product</th>\n",
              "      <th>KP281</th>\n",
              "      <th>KP481</th>\n",
              "      <th>KP781</th>\n",
              "    </tr>\n",
              "    <tr>\n",
              "      <th>Gender</th>\n",
              "      <th></th>\n",
              "      <th></th>\n",
              "      <th></th>\n",
              "    </tr>\n",
              "  </thead>\n",
              "  <tbody>\n",
              "    <tr>\n",
              "      <th>Female</th>\n",
              "      <td>40</td>\n",
              "      <td>29</td>\n",
              "      <td>7</td>\n",
              "    </tr>\n",
              "    <tr>\n",
              "      <th>Male</th>\n",
              "      <td>40</td>\n",
              "      <td>31</td>\n",
              "      <td>33</td>\n",
              "    </tr>\n",
              "  </tbody>\n",
              "</table>\n",
              "</div>\n",
              "    <div class=\"colab-df-buttons\">\n",
              "\n",
              "  <div class=\"colab-df-container\">\n",
              "    <button class=\"colab-df-convert\" onclick=\"convertToInteractive('df-d7012e12-fba8-40cf-bd69-e24960b19c67')\"\n",
              "            title=\"Convert this dataframe to an interactive table.\"\n",
              "            style=\"display:none;\">\n",
              "\n",
              "  <svg xmlns=\"http://www.w3.org/2000/svg\" height=\"24px\" viewBox=\"0 -960 960 960\">\n",
              "    <path d=\"M120-120v-720h720v720H120Zm60-500h600v-160H180v160Zm220 220h160v-160H400v160Zm0 220h160v-160H400v160ZM180-400h160v-160H180v160Zm440 0h160v-160H620v160ZM180-180h160v-160H180v160Zm440 0h160v-160H620v160Z\"/>\n",
              "  </svg>\n",
              "    </button>\n",
              "\n",
              "  <style>\n",
              "    .colab-df-container {\n",
              "      display:flex;\n",
              "      gap: 12px;\n",
              "    }\n",
              "\n",
              "    .colab-df-convert {\n",
              "      background-color: #E8F0FE;\n",
              "      border: none;\n",
              "      border-radius: 50%;\n",
              "      cursor: pointer;\n",
              "      display: none;\n",
              "      fill: #1967D2;\n",
              "      height: 32px;\n",
              "      padding: 0 0 0 0;\n",
              "      width: 32px;\n",
              "    }\n",
              "\n",
              "    .colab-df-convert:hover {\n",
              "      background-color: #E2EBFA;\n",
              "      box-shadow: 0px 1px 2px rgba(60, 64, 67, 0.3), 0px 1px 3px 1px rgba(60, 64, 67, 0.15);\n",
              "      fill: #174EA6;\n",
              "    }\n",
              "\n",
              "    .colab-df-buttons div {\n",
              "      margin-bottom: 4px;\n",
              "    }\n",
              "\n",
              "    [theme=dark] .colab-df-convert {\n",
              "      background-color: #3B4455;\n",
              "      fill: #D2E3FC;\n",
              "    }\n",
              "\n",
              "    [theme=dark] .colab-df-convert:hover {\n",
              "      background-color: #434B5C;\n",
              "      box-shadow: 0px 1px 3px 1px rgba(0, 0, 0, 0.15);\n",
              "      filter: drop-shadow(0px 1px 2px rgba(0, 0, 0, 0.3));\n",
              "      fill: #FFFFFF;\n",
              "    }\n",
              "  </style>\n",
              "\n",
              "    <script>\n",
              "      const buttonEl =\n",
              "        document.querySelector('#df-d7012e12-fba8-40cf-bd69-e24960b19c67 button.colab-df-convert');\n",
              "      buttonEl.style.display =\n",
              "        google.colab.kernel.accessAllowed ? 'block' : 'none';\n",
              "\n",
              "      async function convertToInteractive(key) {\n",
              "        const element = document.querySelector('#df-d7012e12-fba8-40cf-bd69-e24960b19c67');\n",
              "        const dataTable =\n",
              "          await google.colab.kernel.invokeFunction('convertToInteractive',\n",
              "                                                    [key], {});\n",
              "        if (!dataTable) return;\n",
              "\n",
              "        const docLinkHtml = 'Like what you see? Visit the ' +\n",
              "          '<a target=\"_blank\" href=https://colab.research.google.com/notebooks/data_table.ipynb>data table notebook</a>'\n",
              "          + ' to learn more about interactive tables.';\n",
              "        element.innerHTML = '';\n",
              "        dataTable['output_type'] = 'display_data';\n",
              "        await google.colab.output.renderOutput(dataTable, element);\n",
              "        const docLink = document.createElement('div');\n",
              "        docLink.innerHTML = docLinkHtml;\n",
              "        element.appendChild(docLink);\n",
              "      }\n",
              "    </script>\n",
              "  </div>\n",
              "\n",
              "\n",
              "<div id=\"df-79b153fb-b0af-469b-ac81-0e9812b9512a\">\n",
              "  <button class=\"colab-df-quickchart\" onclick=\"quickchart('df-79b153fb-b0af-469b-ac81-0e9812b9512a')\"\n",
              "            title=\"Suggest charts\"\n",
              "            style=\"display:none;\">\n",
              "\n",
              "<svg xmlns=\"http://www.w3.org/2000/svg\" height=\"24px\"viewBox=\"0 0 24 24\"\n",
              "     width=\"24px\">\n",
              "    <g>\n",
              "        <path d=\"M19 3H5c-1.1 0-2 .9-2 2v14c0 1.1.9 2 2 2h14c1.1 0 2-.9 2-2V5c0-1.1-.9-2-2-2zM9 17H7v-7h2v7zm4 0h-2V7h2v10zm4 0h-2v-4h2v4z\"/>\n",
              "    </g>\n",
              "</svg>\n",
              "  </button>\n",
              "\n",
              "<style>\n",
              "  .colab-df-quickchart {\n",
              "      --bg-color: #E8F0FE;\n",
              "      --fill-color: #1967D2;\n",
              "      --hover-bg-color: #E2EBFA;\n",
              "      --hover-fill-color: #174EA6;\n",
              "      --disabled-fill-color: #AAA;\n",
              "      --disabled-bg-color: #DDD;\n",
              "  }\n",
              "\n",
              "  [theme=dark] .colab-df-quickchart {\n",
              "      --bg-color: #3B4455;\n",
              "      --fill-color: #D2E3FC;\n",
              "      --hover-bg-color: #434B5C;\n",
              "      --hover-fill-color: #FFFFFF;\n",
              "      --disabled-bg-color: #3B4455;\n",
              "      --disabled-fill-color: #666;\n",
              "  }\n",
              "\n",
              "  .colab-df-quickchart {\n",
              "    background-color: var(--bg-color);\n",
              "    border: none;\n",
              "    border-radius: 50%;\n",
              "    cursor: pointer;\n",
              "    display: none;\n",
              "    fill: var(--fill-color);\n",
              "    height: 32px;\n",
              "    padding: 0;\n",
              "    width: 32px;\n",
              "  }\n",
              "\n",
              "  .colab-df-quickchart:hover {\n",
              "    background-color: var(--hover-bg-color);\n",
              "    box-shadow: 0 1px 2px rgba(60, 64, 67, 0.3), 0 1px 3px 1px rgba(60, 64, 67, 0.15);\n",
              "    fill: var(--button-hover-fill-color);\n",
              "  }\n",
              "\n",
              "  .colab-df-quickchart-complete:disabled,\n",
              "  .colab-df-quickchart-complete:disabled:hover {\n",
              "    background-color: var(--disabled-bg-color);\n",
              "    fill: var(--disabled-fill-color);\n",
              "    box-shadow: none;\n",
              "  }\n",
              "\n",
              "  .colab-df-spinner {\n",
              "    border: 2px solid var(--fill-color);\n",
              "    border-color: transparent;\n",
              "    border-bottom-color: var(--fill-color);\n",
              "    animation:\n",
              "      spin 1s steps(1) infinite;\n",
              "  }\n",
              "\n",
              "  @keyframes spin {\n",
              "    0% {\n",
              "      border-color: transparent;\n",
              "      border-bottom-color: var(--fill-color);\n",
              "      border-left-color: var(--fill-color);\n",
              "    }\n",
              "    20% {\n",
              "      border-color: transparent;\n",
              "      border-left-color: var(--fill-color);\n",
              "      border-top-color: var(--fill-color);\n",
              "    }\n",
              "    30% {\n",
              "      border-color: transparent;\n",
              "      border-left-color: var(--fill-color);\n",
              "      border-top-color: var(--fill-color);\n",
              "      border-right-color: var(--fill-color);\n",
              "    }\n",
              "    40% {\n",
              "      border-color: transparent;\n",
              "      border-right-color: var(--fill-color);\n",
              "      border-top-color: var(--fill-color);\n",
              "    }\n",
              "    60% {\n",
              "      border-color: transparent;\n",
              "      border-right-color: var(--fill-color);\n",
              "    }\n",
              "    80% {\n",
              "      border-color: transparent;\n",
              "      border-right-color: var(--fill-color);\n",
              "      border-bottom-color: var(--fill-color);\n",
              "    }\n",
              "    90% {\n",
              "      border-color: transparent;\n",
              "      border-bottom-color: var(--fill-color);\n",
              "    }\n",
              "  }\n",
              "</style>\n",
              "\n",
              "  <script>\n",
              "    async function quickchart(key) {\n",
              "      const quickchartButtonEl =\n",
              "        document.querySelector('#' + key + ' button');\n",
              "      quickchartButtonEl.disabled = true;  // To prevent multiple clicks.\n",
              "      quickchartButtonEl.classList.add('colab-df-spinner');\n",
              "      try {\n",
              "        const charts = await google.colab.kernel.invokeFunction(\n",
              "            'suggestCharts', [key], {});\n",
              "      } catch (error) {\n",
              "        console.error('Error during call to suggestCharts:', error);\n",
              "      }\n",
              "      quickchartButtonEl.classList.remove('colab-df-spinner');\n",
              "      quickchartButtonEl.classList.add('colab-df-quickchart-complete');\n",
              "    }\n",
              "    (() => {\n",
              "      let quickchartButtonEl =\n",
              "        document.querySelector('#df-79b153fb-b0af-469b-ac81-0e9812b9512a button');\n",
              "      quickchartButtonEl.style.display =\n",
              "        google.colab.kernel.accessAllowed ? 'block' : 'none';\n",
              "    })();\n",
              "  </script>\n",
              "</div>\n",
              "\n",
              "  <div id=\"id_2464ee59-2fb1-4626-bd32-302813b02836\">\n",
              "    <style>\n",
              "      .colab-df-generate {\n",
              "        background-color: #E8F0FE;\n",
              "        border: none;\n",
              "        border-radius: 50%;\n",
              "        cursor: pointer;\n",
              "        display: none;\n",
              "        fill: #1967D2;\n",
              "        height: 32px;\n",
              "        padding: 0 0 0 0;\n",
              "        width: 32px;\n",
              "      }\n",
              "\n",
              "      .colab-df-generate:hover {\n",
              "        background-color: #E2EBFA;\n",
              "        box-shadow: 0px 1px 2px rgba(60, 64, 67, 0.3), 0px 1px 3px 1px rgba(60, 64, 67, 0.15);\n",
              "        fill: #174EA6;\n",
              "      }\n",
              "\n",
              "      [theme=dark] .colab-df-generate {\n",
              "        background-color: #3B4455;\n",
              "        fill: #D2E3FC;\n",
              "      }\n",
              "\n",
              "      [theme=dark] .colab-df-generate:hover {\n",
              "        background-color: #434B5C;\n",
              "        box-shadow: 0px 1px 3px 1px rgba(0, 0, 0, 0.15);\n",
              "        filter: drop-shadow(0px 1px 2px rgba(0, 0, 0, 0.3));\n",
              "        fill: #FFFFFF;\n",
              "      }\n",
              "    </style>\n",
              "    <button class=\"colab-df-generate\" onclick=\"generateWithVariable('gender_product')\"\n",
              "            title=\"Generate code using this dataframe.\"\n",
              "            style=\"display:none;\">\n",
              "\n",
              "  <svg xmlns=\"http://www.w3.org/2000/svg\" height=\"24px\"viewBox=\"0 0 24 24\"\n",
              "       width=\"24px\">\n",
              "    <path d=\"M7,19H8.4L18.45,9,17,7.55,7,17.6ZM5,21V16.75L18.45,3.32a2,2,0,0,1,2.83,0l1.4,1.43a1.91,1.91,0,0,1,.58,1.4,1.91,1.91,0,0,1-.58,1.4L9.25,21ZM18.45,9,17,7.55Zm-12,3A5.31,5.31,0,0,0,4.9,8.1,5.31,5.31,0,0,0,1,6.5,5.31,5.31,0,0,0,4.9,4.9,5.31,5.31,0,0,0,6.5,1,5.31,5.31,0,0,0,8.1,4.9,5.31,5.31,0,0,0,12,6.5,5.46,5.46,0,0,0,6.5,12Z\"/>\n",
              "  </svg>\n",
              "    </button>\n",
              "    <script>\n",
              "      (() => {\n",
              "      const buttonEl =\n",
              "        document.querySelector('#id_2464ee59-2fb1-4626-bd32-302813b02836 button.colab-df-generate');\n",
              "      buttonEl.style.display =\n",
              "        google.colab.kernel.accessAllowed ? 'block' : 'none';\n",
              "\n",
              "      buttonEl.onclick = () => {\n",
              "        google.colab.notebook.generateWithVariable('gender_product');\n",
              "      }\n",
              "      })();\n",
              "    </script>\n",
              "  </div>\n",
              "\n",
              "    </div>\n",
              "  </div>\n"
            ],
            "application/vnd.google.colaboratory.intrinsic+json": {
              "type": "dataframe",
              "variable_name": "gender_product",
              "summary": "{\n  \"name\": \"gender_product\",\n  \"rows\": 2,\n  \"fields\": [\n    {\n      \"column\": \"Gender\",\n      \"properties\": {\n        \"dtype\": \"string\",\n        \"num_unique_values\": 2,\n        \"samples\": [\n          \"Male\",\n          \"Female\"\n        ],\n        \"semantic_type\": \"\",\n        \"description\": \"\"\n      }\n    },\n    {\n      \"column\": \"KP281\",\n      \"properties\": {\n        \"dtype\": \"number\",\n        \"std\": 0,\n        \"min\": 40,\n        \"max\": 40,\n        \"num_unique_values\": 1,\n        \"samples\": [\n          40\n        ],\n        \"semantic_type\": \"\",\n        \"description\": \"\"\n      }\n    },\n    {\n      \"column\": \"KP481\",\n      \"properties\": {\n        \"dtype\": \"number\",\n        \"std\": 1,\n        \"min\": 29,\n        \"max\": 31,\n        \"num_unique_values\": 2,\n        \"samples\": [\n          31\n        ],\n        \"semantic_type\": \"\",\n        \"description\": \"\"\n      }\n    },\n    {\n      \"column\": \"KP781\",\n      \"properties\": {\n        \"dtype\": \"number\",\n        \"std\": 18,\n        \"min\": 7,\n        \"max\": 33,\n        \"num_unique_values\": 2,\n        \"samples\": [\n          33\n        ],\n        \"semantic_type\": \"\",\n        \"description\": \"\"\n      }\n    }\n  ]\n}"
            }
          },
          "metadata": {},
          "execution_count": 21
        }
      ]
    },
    {
      "cell_type": "code",
      "source": [
        "chi_stat, p_value, df, exp_freq = chi2_contingency(gender_product)\n",
        "\n",
        "print(f'P - Value = {p_value}')\n",
        "print(f'Chi Stat = {chi_stat}')\n",
        "print(f'Degree of Freedom = {df}')\n",
        "print(f'Expected Frequency = {exp_freq}')\n",
        "\n",
        "alpha = 0.05\n",
        "\n",
        "if pvalue < alpha:\n",
        "  print(\"Reject H0: Gender Impacts the product\")\n",
        "else:\n",
        "  print(\"Failed to reject H0: Gender has no impact on product\")"
      ],
      "metadata": {
        "colab": {
          "base_uri": "https://localhost:8080/"
        },
        "id": "livdIVkFj430",
        "outputId": "617f496d-6827-4818-e372-96366b5d3261"
      },
      "execution_count": 22,
      "outputs": [
        {
          "output_type": "stream",
          "name": "stdout",
          "text": [
            "P - Value = 0.0015617972833158714\n",
            "Chi Stat = 12.923836032388664\n",
            "Degree of Freedom = 2\n",
            "Expected Frequency = [[33.77777778 25.33333333 16.88888889]\n",
            " [46.22222222 34.66666667 23.11111111]]\n",
            "Reject H0: Gender Impacts the product\n"
          ]
        }
      ]
    },
    {
      "cell_type": "code",
      "source": [],
      "metadata": {
        "id": "0D3Ih9dBkVu0"
      },
      "execution_count": null,
      "outputs": []
    }
  ]
}